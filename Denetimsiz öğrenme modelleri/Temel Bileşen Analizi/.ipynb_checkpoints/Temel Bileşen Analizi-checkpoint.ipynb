{
 "cells": [
  {
   "cell_type": "markdown",
   "id": "c3ad0dce-6f4c-43e5-8858-25281db18c9d",
   "metadata": {},
   "source": [
    "# **Temel Bileşen Analizi (PCA)**  \n",
    "\n",
    "Temel Bileşen Analizi (Principal Component Analysis - PCA), çok değişkenli bir veri setinin ana özelliklerini daha az sayıda değişken veya bileşen ile temsil etmeyi amaçlayan bir boyut indirgeme yöntemidir. PCA, veri setindeki değişkenlerin varyansını maksimum ölçüde koruyarak, birbirinden bağımsız (yani birbiriyle ilişkili olmayan) yeni değişkenler oluşturur.\n",
    "\n",
    "---\n",
    "\n",
    "### PCA'nın Kullanım Alanları:\n",
    "1. **Görüntü İşleme:**  \n",
    "   Görseller gibi yüksek boyutlu verilerde, önemli bilgiyi kaybetmeden boyutu küçültmek için kullanılır.  \n",
    "   \n",
    "2. **Regresyon Modelleri:**  \n",
    "   Regresyon analizinde, veri setinde çok sayıda değişken olduğunda, bazı değişkenlerin birbiriyle yüksek düzeyde ilişkili olması (çoklu doğrusal bağlantı problemi) modele zarar verebilir. Bu durum, tahmin performansını düşürüp modelin güvenilirliğini zayıflatır. PCA bu problemi çözmek için etkili bir yöntemdir.\n",
    "\n",
    "---\n",
    "\n",
    "### Çoklu Doğrusal Bağlantı Problemi ve PCA:  \n",
    "- Çoklu doğrusal bağlantı, bir veri setindeki değişkenler arasında yüksek düzeyde korelasyon olduğu durumlarda ortaya çıkar. Bu durum, regresyon katsayılarının istikrarsız olmasına ve modelin genelleştirme kapasitesinin düşmesine neden olabilir.  \n",
    "- PCA uygulandığında:  \n",
    "  - Mevcut değişkenler, birbirinden bağımsız temel bileşenlere dönüştürülür.  \n",
    "  - Bu bileşenler, değişkenler arasındaki ilişkileri ortadan kaldırır.  \n",
    "  - Böylece çoklu doğrusal bağlantı problemi çözülmüş olur ve model daha güvenilir hale gelir.\n",
    "\n",
    "---\n",
    "\n",
    "### PCA Nasıl Çalışır?\n",
    "1. **Veri Standardizasyonu:**  \n",
    "   Tüm değişkenler, aynı birimlere dönüştürülür (örneğin, ortalama 0 ve standart sapma 1 olacak şekilde standardize edilir).\n",
    "\n",
    "2. **Kovaryans Matrisi Oluşturma:**  \n",
    "   Değişkenler arasındaki ilişkileri incelemek için kovaryans matrisi hesaplanır.\n",
    "\n",
    "3. **Özvektörler ve Özdeğerler:**  \n",
    "   Kovaryans matrisinin özvektörleri ve özdeğerleri hesaplanarak, veriyi açıklamada en önemli bileşenler belirlenir.\n",
    "\n",
    "4. **Bileşenlerin Seçilmesi:**  \n",
    "   Özdeğerlerin büyüklüğüne göre en fazla varyansı açıklayan bileşenler seçilir. Bu, veri kaybını minimize ederek boyutu küçültür.\n",
    "\n",
    "5. **Yeni Veri Kümesi:**  \n",
    "   Veriler, seçilen temel bileşenler kullanılarak yeniden ifade edilir.\n",
    "\n",
    "---\n",
    "\n",
    "### PCA'nın Avantajları:\n",
    "- Boyut azaltarak veri işleme sürecini hızlandırır.\n",
    "- Çoklu doğrusal bağlantı problemini ortadan kaldırır.\n",
    "- Verideki gürültüyü azaltarak analizlerin daha etkili hale gelmesini sağlar."
   ]
  },
  {
   "cell_type": "code",
   "execution_count": 1,
   "id": "789d640b-e924-4740-9d15-818db4d9a853",
   "metadata": {},
   "outputs": [],
   "source": [
    "import pandas as pd\n",
    "import numpy as np\n",
    "import seaborn as sns\n",
    "import matplotlib.pyplot as plt\n",
    "from sklearn.preprocessing import StandardScaler\n",
    "from sklearn.decomposition import PCA\n"
   ]
  },
  {
   "cell_type": "code",
   "execution_count": 2,
   "id": "9f719949-341a-4d0a-ae4f-a86f6ce102ad",
   "metadata": {},
   "outputs": [
    {
     "data": {
      "text/html": [
       "<div>\n",
       "<style scoped>\n",
       "    .dataframe tbody tr th:only-of-type {\n",
       "        vertical-align: middle;\n",
       "    }\n",
       "\n",
       "    .dataframe tbody tr th {\n",
       "        vertical-align: top;\n",
       "    }\n",
       "\n",
       "    .dataframe thead th {\n",
       "        text-align: right;\n",
       "    }\n",
       "</style>\n",
       "<table border=\"1\" class=\"dataframe\">\n",
       "  <thead>\n",
       "    <tr style=\"text-align: right;\">\n",
       "      <th></th>\n",
       "      <th>AtBat</th>\n",
       "      <th>Hits</th>\n",
       "      <th>HmRun</th>\n",
       "      <th>Runs</th>\n",
       "      <th>RBI</th>\n",
       "      <th>Walks</th>\n",
       "      <th>Years</th>\n",
       "      <th>CAtBat</th>\n",
       "      <th>CHits</th>\n",
       "      <th>CHmRun</th>\n",
       "      <th>CRuns</th>\n",
       "      <th>CRBI</th>\n",
       "      <th>CWalks</th>\n",
       "      <th>PutOuts</th>\n",
       "      <th>Assists</th>\n",
       "      <th>Errors</th>\n",
       "      <th>Salary</th>\n",
       "    </tr>\n",
       "  </thead>\n",
       "  <tbody>\n",
       "    <tr>\n",
       "      <th>1</th>\n",
       "      <td>315</td>\n",
       "      <td>81</td>\n",
       "      <td>7</td>\n",
       "      <td>24</td>\n",
       "      <td>38</td>\n",
       "      <td>39</td>\n",
       "      <td>14</td>\n",
       "      <td>3449</td>\n",
       "      <td>835</td>\n",
       "      <td>69</td>\n",
       "      <td>321</td>\n",
       "      <td>414</td>\n",
       "      <td>375</td>\n",
       "      <td>632</td>\n",
       "      <td>43</td>\n",
       "      <td>10</td>\n",
       "      <td>475.0</td>\n",
       "    </tr>\n",
       "    <tr>\n",
       "      <th>2</th>\n",
       "      <td>479</td>\n",
       "      <td>130</td>\n",
       "      <td>18</td>\n",
       "      <td>66</td>\n",
       "      <td>72</td>\n",
       "      <td>76</td>\n",
       "      <td>3</td>\n",
       "      <td>1624</td>\n",
       "      <td>457</td>\n",
       "      <td>63</td>\n",
       "      <td>224</td>\n",
       "      <td>266</td>\n",
       "      <td>263</td>\n",
       "      <td>880</td>\n",
       "      <td>82</td>\n",
       "      <td>14</td>\n",
       "      <td>480.0</td>\n",
       "    </tr>\n",
       "    <tr>\n",
       "      <th>3</th>\n",
       "      <td>496</td>\n",
       "      <td>141</td>\n",
       "      <td>20</td>\n",
       "      <td>65</td>\n",
       "      <td>78</td>\n",
       "      <td>37</td>\n",
       "      <td>11</td>\n",
       "      <td>5628</td>\n",
       "      <td>1575</td>\n",
       "      <td>225</td>\n",
       "      <td>828</td>\n",
       "      <td>838</td>\n",
       "      <td>354</td>\n",
       "      <td>200</td>\n",
       "      <td>11</td>\n",
       "      <td>3</td>\n",
       "      <td>500.0</td>\n",
       "    </tr>\n",
       "    <tr>\n",
       "      <th>4</th>\n",
       "      <td>321</td>\n",
       "      <td>87</td>\n",
       "      <td>10</td>\n",
       "      <td>39</td>\n",
       "      <td>42</td>\n",
       "      <td>30</td>\n",
       "      <td>2</td>\n",
       "      <td>396</td>\n",
       "      <td>101</td>\n",
       "      <td>12</td>\n",
       "      <td>48</td>\n",
       "      <td>46</td>\n",
       "      <td>33</td>\n",
       "      <td>805</td>\n",
       "      <td>40</td>\n",
       "      <td>4</td>\n",
       "      <td>91.5</td>\n",
       "    </tr>\n",
       "    <tr>\n",
       "      <th>5</th>\n",
       "      <td>594</td>\n",
       "      <td>169</td>\n",
       "      <td>4</td>\n",
       "      <td>74</td>\n",
       "      <td>51</td>\n",
       "      <td>35</td>\n",
       "      <td>11</td>\n",
       "      <td>4408</td>\n",
       "      <td>1133</td>\n",
       "      <td>19</td>\n",
       "      <td>501</td>\n",
       "      <td>336</td>\n",
       "      <td>194</td>\n",
       "      <td>282</td>\n",
       "      <td>421</td>\n",
       "      <td>25</td>\n",
       "      <td>750.0</td>\n",
       "    </tr>\n",
       "  </tbody>\n",
       "</table>\n",
       "</div>"
      ],
      "text/plain": [
       "   AtBat  Hits  HmRun  Runs  RBI  Walks  Years  CAtBat  CHits  CHmRun  CRuns  \\\n",
       "1    315    81      7    24   38     39     14    3449    835      69    321   \n",
       "2    479   130     18    66   72     76      3    1624    457      63    224   \n",
       "3    496   141     20    65   78     37     11    5628   1575     225    828   \n",
       "4    321    87     10    39   42     30      2     396    101      12     48   \n",
       "5    594   169      4    74   51     35     11    4408   1133      19    501   \n",
       "\n",
       "   CRBI  CWalks  PutOuts  Assists  Errors  Salary  \n",
       "1   414     375      632       43      10   475.0  \n",
       "2   266     263      880       82      14   480.0  \n",
       "3   838     354      200       11       3   500.0  \n",
       "4    46      33      805       40       4    91.5  \n",
       "5   336     194      282      421      25   750.0  "
      ]
     },
     "execution_count": 2,
     "metadata": {},
     "output_type": "execute_result"
    }
   ],
   "source": [
    "df=pd.read_csv(r\"C:\\Users\\Emirhan Tozlu\\Desktop\\machine learning\\Doğrusal Regresyon Modelleri\\Ridge Regresyon\\Hitters.csv\")\n",
    "df.dropna(inplace=True)\n",
    "df=df._get_numeric_data()\n",
    "df.head()"
   ]
  },
  {
   "cell_type": "code",
   "execution_count": 3,
   "id": "0fe662eb-1302-4684-8896-6a6154196f06",
   "metadata": {},
   "outputs": [
    {
     "data": {
      "text/plain": [
       "array([[-0.6029005 , -0.59567545, -0.5285512 , -1.2061115 , -0.52206292],\n",
       "       [ 0.51254171,  0.49225957,  0.72996619,  0.44151497,  0.79405962],\n",
       "       [ 0.62816682,  0.73648988,  0.95878753,  0.40228577,  1.02631654],\n",
       "       [-0.56209164, -0.46245892, -0.18531919, -0.61767348, -0.36722498],\n",
       "       [ 1.29471156,  1.35816704, -0.87178322,  0.75534858, -0.0188396 ]])"
      ]
     },
     "execution_count": 3,
     "metadata": {},
     "output_type": "execute_result"
    }
   ],
   "source": [
    "df=StandardScaler().fit_transform(df)\n",
    "df[:5,:5]"
   ]
  },
  {
   "cell_type": "code",
   "execution_count": 4,
   "id": "3db64a3e-da59-4bf4-a389-2943165968f1",
   "metadata": {},
   "outputs": [],
   "source": [
    "pca=PCA(n_components=2)\n",
    "pca_fit=pca.fit_transform(df)"
   ]
  },
  {
   "cell_type": "code",
   "execution_count": 5,
   "id": "663774f9-26ef-4474-af6c-71c8cc83d434",
   "metadata": {},
   "outputs": [
    {
     "data": {
      "text/html": [
       "<div>\n",
       "<style scoped>\n",
       "    .dataframe tbody tr th:only-of-type {\n",
       "        vertical-align: middle;\n",
       "    }\n",
       "\n",
       "    .dataframe tbody tr th {\n",
       "        vertical-align: top;\n",
       "    }\n",
       "\n",
       "    .dataframe thead th {\n",
       "        text-align: right;\n",
       "    }\n",
       "</style>\n",
       "<table border=\"1\" class=\"dataframe\">\n",
       "  <thead>\n",
       "    <tr style=\"text-align: right;\">\n",
       "      <th></th>\n",
       "      <th>birinci_bileşen</th>\n",
       "      <th>ikinci_bileşen</th>\n",
       "    </tr>\n",
       "  </thead>\n",
       "  <tbody>\n",
       "    <tr>\n",
       "      <th>0</th>\n",
       "      <td>0.076848</td>\n",
       "      <td>1.653525</td>\n",
       "    </tr>\n",
       "    <tr>\n",
       "      <th>1</th>\n",
       "      <td>0.337127</td>\n",
       "      <td>-2.320560</td>\n",
       "    </tr>\n",
       "    <tr>\n",
       "      <th>2</th>\n",
       "      <td>3.408362</td>\n",
       "      <td>0.755757</td>\n",
       "    </tr>\n",
       "    <tr>\n",
       "      <th>3</th>\n",
       "      <td>-2.642221</td>\n",
       "      <td>-0.361486</td>\n",
       "    </tr>\n",
       "    <tr>\n",
       "      <th>4</th>\n",
       "      <td>1.071681</td>\n",
       "      <td>-1.511674</td>\n",
       "    </tr>\n",
       "    <tr>\n",
       "      <th>...</th>\n",
       "      <td>...</td>\n",
       "      <td>...</td>\n",
       "    </tr>\n",
       "    <tr>\n",
       "      <th>258</th>\n",
       "      <td>-0.152111</td>\n",
       "      <td>-0.331665</td>\n",
       "    </tr>\n",
       "    <tr>\n",
       "      <th>259</th>\n",
       "      <td>3.241373</td>\n",
       "      <td>-0.391942</td>\n",
       "    </tr>\n",
       "    <tr>\n",
       "      <th>260</th>\n",
       "      <td>-1.206322</td>\n",
       "      <td>-0.625714</td>\n",
       "    </tr>\n",
       "    <tr>\n",
       "      <th>261</th>\n",
       "      <td>2.084856</td>\n",
       "      <td>-2.059851</td>\n",
       "    </tr>\n",
       "    <tr>\n",
       "      <th>262</th>\n",
       "      <td>1.977963</td>\n",
       "      <td>-0.208100</td>\n",
       "    </tr>\n",
       "  </tbody>\n",
       "</table>\n",
       "<p>263 rows × 2 columns</p>\n",
       "</div>"
      ],
      "text/plain": [
       "     birinci_bileşen  ikinci_bileşen\n",
       "0           0.076848        1.653525\n",
       "1           0.337127       -2.320560\n",
       "2           3.408362        0.755757\n",
       "3          -2.642221       -0.361486\n",
       "4           1.071681       -1.511674\n",
       "..               ...             ...\n",
       "258        -0.152111       -0.331665\n",
       "259         3.241373       -0.391942\n",
       "260        -1.206322       -0.625714\n",
       "261         2.084856       -2.059851\n",
       "262         1.977963       -0.208100\n",
       "\n",
       "[263 rows x 2 columns]"
      ]
     },
     "execution_count": 5,
     "metadata": {},
     "output_type": "execute_result"
    }
   ],
   "source": [
    "bilesen_df=pd.DataFrame(data=pca_fit, columns=[\"birinci_bileşen\",\"ikinci_bileşen\"])\n",
    "bilesen_df"
   ]
  },
  {
   "cell_type": "code",
   "execution_count": 6,
   "id": "6bb661bc-0765-40c1-bac6-915d489434ad",
   "metadata": {},
   "outputs": [
    {
     "data": {
      "text/plain": [
       "array([0.45245466, 0.24246801])"
      ]
     },
     "execution_count": 6,
     "metadata": {},
     "output_type": "execute_result"
    }
   ],
   "source": [
    "pca.explained_variance_ratio_\n",
    "# birinci bileşence %45 , ikinci bileşence %24 açıklanmış veri setimiz."
   ]
  },
  {
   "cell_type": "code",
   "execution_count": 7,
   "id": "82fdbda7-7a07-4eef-9213-bd3da02dd7ee",
   "metadata": {},
   "outputs": [
    {
     "data": {
      "text/plain": [
       "array([-0.38407792, -0.37764493, -0.22866298, -0.37459128, -0.31026531,\n",
       "       -0.23115759,  0.26820405,  0.19641268,  0.18589726,  0.13386448,\n",
       "        0.17692929,  0.17283361,  0.19698297, -0.16295204, -0.17624626,\n",
       "       -0.20978299, -0.05452611])"
      ]
     },
     "execution_count": 7,
     "metadata": {},
     "output_type": "execute_result"
    }
   ],
   "source": [
    "pca.components_[1]"
   ]
  },
  {
   "cell_type": "code",
   "execution_count": 8,
   "id": "998a5c86-b808-44a0-8faf-886e672b5c90",
   "metadata": {},
   "outputs": [
    {
     "data": {
      "text/plain": [
       "Text(0, 0.5, 'Kümülatif Varyans oranı')"
      ]
     },
     "execution_count": 8,
     "metadata": {},
     "output_type": "execute_result"
    },
    {
     "data": {
      "image/png": "[encoded data removed]",
      "text/plain": [
       "<Figure size 640x480 with 1 Axes>"
      ]
     },
     "metadata": {},
     "output_type": "display_data"
    }
   ],
   "source": [
    "# optimum bileşen sayısı\n",
    "pca=PCA().fit(df)\n",
    "plt.plot(np.cumsum(pca.explained_variance_ratio_))\n",
    "plt.xlabel(\"Bileşen Sayısı\")\n",
    "plt.ylabel(\"Kümülatif Varyans oranı\")"
   ]
  },
  {
   "cell_type": "code",
   "execution_count": 9,
   "id": "0f88c80b-3a8d-46cb-bb6d-6f4ab253da40",
   "metadata": {},
   "outputs": [],
   "source": [
    "# Final "
   ]
  },
  {
   "cell_type": "code",
   "execution_count": 10,
   "id": "bea77dc7-3c9f-4f04-8bfa-1f250626177d",
   "metadata": {},
   "outputs": [],
   "source": [
    "pca=PCA(n_components=3)\n",
    "pca_fit=pca.fit_transform(df)"
   ]
  },
  {
   "cell_type": "code",
   "execution_count": 11,
   "id": "f930df16-2b65-414d-9d80-8cdb529f9dc1",
   "metadata": {},
   "outputs": [
    {
     "data": {
      "text/plain": [
       "array([0.45245466, 0.24246801, 0.1016968 ])"
      ]
     },
     "execution_count": 11,
     "metadata": {},
     "output_type": "execute_result"
    }
   ],
   "source": [
    "pca.explained_variance_ratio_"
   ]
  },
  {
   "cell_type": "code",
   "execution_count": null,
   "id": "e670e964-8f9c-498f-9dc5-1b8ed7d28f58",
   "metadata": {},
   "outputs": [],
   "source": []
  }
 ],
 "metadata": {
  "kernelspec": {
   "display_name": "Python 3 (ipykernel)",
   "language": "python",
   "name": "python3"
  },
  "language_info": {
   "codemirror_mode": {
    "name": "ipython",
    "version": 3
   },
   "file_extension": ".py",
   "mimetype": "text/x-python",
   "name": "python",
   "nbconvert_exporter": "python",
   "pygments_lexer": "ipython3",
   "version": "3.12.4"
  }
 },
 "nbformat": 4,
 "nbformat_minor": 5
}
